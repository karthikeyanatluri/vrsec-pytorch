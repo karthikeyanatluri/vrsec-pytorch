{
  "nbformat": 4,
  "nbformat_minor": 0,
  "metadata": {
    "colab": {
      "provenance": [],
      "authorship_tag": "ABX9TyPZrUoV3jP91bq0yb8Px7Qn",
      "include_colab_link": true
    },
    "kernelspec": {
      "name": "python3",
      "display_name": "Python 3"
    },
    "language_info": {
      "name": "python"
    }
  },
  "cells": [
    {
      "cell_type": "markdown",
      "metadata": {
        "id": "view-in-github",
        "colab_type": "text"
      },
      "source": [
        "<a href=\"https://colab.research.google.com/github/kollirajani/vrsec-pytorch/blob/main/VRSEC_tourch2.ipynb\" target=\"_parent\"><img src=\"https://colab.research.google.com/assets/colab-badge.svg\" alt=\"Open In Colab\"/></a>"
      ]
    },
    {
      "cell_type": "code",
      "execution_count": 5,
      "metadata": {
        "id": "Uv_pOey8udvz"
      },
      "outputs": [],
      "source": [
        "import torch\n",
        "import torch.nn as nn\n",
        "import torch.nn.functional as F\n",
        "\n",
        "# Create a model class that inherits from nn.Module\n",
        "class Model(nn.Module):\n",
        "    # Input layer (4 features of the flower) --> Hidden layer1 --> Hidden layer2 --> Output layer\n",
        "    def __init__(self, in_features=4, h1=8, h2=9, out_features=3):\n",
        "        super().__init__() # instanntiate our nn.modle\n",
        "        super(Model, self).__init__()\n",
        "        self.fc1 = nn.Linear(in_features, h1)  # Fully connected layer 1\n",
        "        self.fc2 = nn.Linear(h1, h2)  # Fully connected layer 2\n",
        "        self.out = nn.Linear(h2, out_features)  # Output layer\n",
        "\n",
        "    def forward(self, x):\n",
        "        x = F.relu(self.fc1(x))  # Activation function for layer 1\n",
        "        x = F.relu(self.fc2(x))  # Activation function for layer 2\n",
        "        x = self.out(x)  # Output layer\n",
        "        return x\n"
      ]
    },
    {
      "cell_type": "code",
      "source": [
        "# Pick a manual seed for randominzation\n",
        "torch.manual_seed(41)\n",
        "# Create an instnace of model\n",
        "model = Model()\n"
      ],
      "metadata": {
        "id": "-UljLhqsvMga"
      },
      "execution_count": 6,
      "outputs": []
    }
  ]
}