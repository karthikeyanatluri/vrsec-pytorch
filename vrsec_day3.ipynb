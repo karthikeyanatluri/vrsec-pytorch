{
  "nbformat": 4,
  "nbformat_minor": 0,
  "metadata": {
    "colab": {
      "provenance": [],
      "include_colab_link": true
    },
    "kernelspec": {
      "name": "python3",
      "display_name": "Python 3"
    },
    "language_info": {
      "name": "python"
    }
  },
  "cells": [
    {
      "cell_type": "markdown",
      "metadata": {
        "id": "view-in-github",
        "colab_type": "text"
      },
      "source": [
        "<a href=\"https://colab.research.google.com/github/karthikeyanatluri/vrsec-pytorch/blob/main/vrsec_day3.ipynb\" target=\"_parent\"><img src=\"https://colab.research.google.com/assets/colab-badge.svg\" alt=\"Open In Colab\"/></a>"
      ]
    },
    {
      "cell_type": "code",
      "execution_count": null,
      "metadata": {
        "id": "p8puQzizOETd"
      },
      "outputs": [],
      "source": []
    },
    {
      "cell_type": "code",
      "source": [
        "import torch\n",
        "import torch.nn as nn\n",
        "import torch.nn.functional as F\n",
        "\n",
        "# Create a model class that inherits from nn.Module\n",
        "class Model(nn.Module):\n",
        "    # Input layer (4 features of the flower) --> Hidden layer1 --> Hidden layer2 --> Output layer\n",
        "    def __init__(self, in_features=4, h1=8, h2=9, out_features=3):\n",
        "        super().__init__() # instanntiate our nn.modle\n",
        "        super(Model, self).__init__()\n",
        "        self.fc1 = nn.Linear(in_features, h1)  # Fully connected layer 1\n",
        "        self.fc2 = nn.Linear(h1, h2)  # Fully connected layer 2\n",
        "        self.out = nn.Linear(h2, out_features)  # Output layer\n",
        "\n",
        "    def forward(self, x):\n",
        "        x = F.relu(self.fc1(x))  # Activation function for layer 1\n",
        "        x = F.relu(self.fc2(x))  # Activation function for layer 2\n",
        "        x = self.out(x)  # Output layer\n",
        "        return x\n",
        "# Pick a manual seed for randominzation\n",
        "torch.manual_seed(41)\n",
        "# Create an instnace of model\n",
        "model = Model()\n",
        "import pandas as pd\n",
        "import matplotlib.pyplot as plt\n",
        "%matplotlib inline\n",
        "url = 'https://gist.githubusercontent.com/curran/a08a1080b88344b0c8a7/raw/0e7a9b0a5d22642a06d3d5b9bcbad9890c8ee534/iris.csv'\n",
        "my_df = pd.read_csv(url)\n",
        "my_df\n",
        "\n",
        "# Change last column from strings to integers\n",
        "my_df['species'] = my_df['species'].replace('setosa',0.0)\n",
        "my_df['species'] = my_df['species'].replace('versicolor',1.0)\n",
        "my_df['species'] = my_df['species'].replace('virginica',2.0)\n",
        "my_df"
      ],
      "metadata": {
        "id": "IV3oGWTROIyP"
      },
      "execution_count": null,
      "outputs": []
    }
  ]
}